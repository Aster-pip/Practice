{
  "nbformat": 4,
  "nbformat_minor": 0,
  "metadata": {
    "colab": {
      "name": "Untitled8.ipynb",
      "provenance": []
    },
    "kernelspec": {
      "display_name": "Python 3",
      "name": "python3"
    },
    "language_info": {
      "name": "python"
    }
  },
  "cells": [
    {
      "cell_type": "code",
      "metadata": {
        "colab": {
          "base_uri": "https://localhost:8080/"
        },
        "id": "7o9Zj0jH7ba9",
        "outputId": "952ac1a6-30bc-467a-ebc3-51d1778c17c7"
      },
      "source": [
        "from multiprocessing import Process\n",
        "\n",
        "def f(name):\n",
        "    print('Hello', name)\n",
        "    print('Process %s starting...' % name)\n",
        "    count = 3\n",
        "    while count:\n",
        "      print('Process %s count: %i...' % (name, count))\n",
        "      count -= 1\n",
        "\n",
        "def f1(name):\n",
        "  print('Hello')\n",
        "  print('Process %s starting...' % name)\n",
        "\n",
        "if __name__ == '__main__':\n",
        "    p = Process(target=f, args=('BAB',))\n",
        "    p1 = Process(target=f1, args=('BOB',))\n",
        "    p2 = Process(target=f, args=('BIB',))\n",
        "    p3 = Process(target=f1, args=('BEB',))\n",
        "\n",
        "    p.start()\n",
        "    p1.start()\n",
        "    p2.start()\n",
        "    p3.start()\n",
        "    p.join()\n",
        "    p1.join()\n",
        "    p2.join()\n",
        "    p3.join()"
      ],
      "execution_count": 1,
      "outputs": [
        {
          "output_type": "stream",
          "text": [
            "Hello BAB\n",
            "Process BAB starting...\n",
            "Hello\n",
            "Process BAB count: 3...\n",
            "Process BOB starting...\n",
            "Process BAB count: 2...\n",
            "Process BAB count: 1...\n",
            "Hello BIB\n",
            "Process BIB starting...\n",
            "Process BIB count: 3...\n",
            "Hello\n",
            "Process BEB starting...\n",
            "Process BIB count: 2...\n",
            "Process BIB count: 1...\n"
          ],
          "name": "stdout"
        }
      ]
    }
  ]
}