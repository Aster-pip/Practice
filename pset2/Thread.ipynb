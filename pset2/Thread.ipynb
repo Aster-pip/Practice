{
  "nbformat": 4,
  "nbformat_minor": 0,
  "metadata": {
    "colab": {
      "name": "Untitled3.ipynb",
      "provenance": [],
      "collapsed_sections": []
    },
    "kernelspec": {
      "name": "python3",
      "display_name": "Python 3"
    }
  },
  "cells": [
    {
      "cell_type": "code",
      "metadata": {
        "id": "Upm59lIqDd4Y"
      },
      "source": [
        "from threading import Thread\r\n",
        "from time import sleep"
      ],
      "execution_count": null,
      "outputs": []
    },
    {
      "cell_type": "code",
      "metadata": {
        "colab": {
          "base_uri": "https://localhost:8080/"
        },
        "id": "IifcXB6kDm-X",
        "outputId": "de0eb18d-5b9f-47ef-f950-f1f780e7eefc"
      },
      "source": [
        "def function():\r\n",
        "    for i in range(5):\r\n",
        "        print(f\"Vasya Pupkin: {i}\")\r\n",
        "        sleep(0.5)\r\n",
        "th = Thread(target=function)\r\n",
        "th.start()\r\n",
        "for i in range(5):\r\n",
        "    print(f\"Batya Vasi Pypkina: {i}\")\r\n",
        "    sleep(2)"
      ],
      "execution_count": null,
      "outputs": [
        {
          "output_type": "stream",
          "text": [
            "Vasya Pupkin: 0\n",
            "Batya Vasi Pypkina: 0\n",
            "Vasya Pupkin: 1\n",
            "Vasya Pupkin: 2\n",
            "Vasya Pupkin: 3\n",
            "Vasya Pupkin: 4\n",
            "Batya Vasi Pypkina: 1\n",
            "Batya Vasi Pypkina: 2\n",
            "Batya Vasi Pypkina: 3\n",
            "Batya Vasi Pypkina: 4\n"
          ],
          "name": "stdout"
        }
      ]
    },
    {
      "cell_type": "code",
      "metadata": {
        "colab": {
          "base_uri": "https://localhost:8080/"
        },
        "id": "YE5tvnaNE1De",
        "outputId": "6a67be0f-8952-4d8b-82db-5c85ca7f0b1e"
      },
      "source": [
        "th1 = Thread(target=function)\r\n",
        "th2 = Thread(target=function)\r\n",
        "th1.start()\r\n",
        "th2.start()\r\n",
        "th1.join()\r\n",
        "th2.join()\r\n",
        "print(\"STOP-OP_OP\")"
      ],
      "execution_count": null,
      "outputs": [
        {
          "output_type": "stream",
          "text": [
            "Vasya Pupkin: 0\n",
            "Vasya Pupkin: 0\n",
            "Vasya Pupkin: 1\n",
            "Vasya Pupkin: 1\n",
            "Vasya Pupkin: 2\n",
            "Vasya Pupkin: 2\n",
            "Vasya Pupkin: 3\n",
            "Vasya Pupkin: 3\n",
            "Vasya Pupkin: 4\n",
            "Vasya Pupkin: 4\n",
            "STOP-OP_OP\n"
          ],
          "name": "stdout"
        }
      ]
    },
    {
      "cell_type": "code",
      "metadata": {
        "colab": {
          "base_uri": "https://localhost:8080/"
        },
        "id": "AaDNNdlgHJEF",
        "outputId": "0e200f25-a5ca-4858-b259-6bc158b85915"
      },
      "source": [
        "th = Thread(target=function)\r\n",
        "print(f\"thread status: {th.is_alive()}\")\r\n",
        "th.start()\r\n",
        "print(f\"thread status: {th.is_alive()}\")\r\n",
        "sleep(5)\r\n",
        "print(f\"thread status: {th.is_alive()}\")"
      ],
      "execution_count": null,
      "outputs": [
        {
          "output_type": "stream",
          "text": [
            "thread status: False\n",
            "Vasya Pupkin: 0thread status: True\n",
            "\n",
            "Vasya Pupkin: 1\n",
            "Vasya Pupkin: 2\n",
            "Vasya Pupkin: 3\n",
            "Vasya Pupkin: 4\n",
            "thread status: False\n"
          ],
          "name": "stdout"
        }
      ]
    },
    {
      "cell_type": "code",
      "metadata": {
        "colab": {
          "base_uri": "https://localhost:8080/"
        },
        "id": "Z_uFGXWDJFXP",
        "outputId": "c23c3bde-7a96-4d4a-8eeb-3ef585878650"
      },
      "source": [
        "class MyThread(Thread):\r\n",
        "    def __init__(self, numb):\r\n",
        "        Thread.__init__(self)\r\n",
        "        self.numb = numb\r\n",
        "\r\n",
        "    def run(self):\r\n",
        "        for i in range(self.numb):\r\n",
        "            print(f\"{i+1} пішов\")\r\n",
        "            sleep(0.5)\r\n",
        "th = MyThread(3)\r\n",
        "th2 = MyThread(3)\r\n",
        "th.start()\r\n",
        "th2.start()\r\n",
        "th.join()\r\n",
        "th2.join()\r\n",
        "print('!!!Finishhim!!!')"
      ],
      "execution_count": null,
      "outputs": [
        {
          "output_type": "stream",
          "text": [
            "1 пішов\n",
            "1 пішов\n",
            "2 пішов\n",
            "2 пішов\n",
            "3 пішов\n",
            "3 пішов\n",
            "Finished.\n"
          ],
          "name": "stdout"
        }
      ]
    },
    {
      "cell_type": "code",
      "metadata": {
        "colab": {
          "base_uri": "https://localhost:8080/"
        },
        "id": "cybMGce8aIXV",
        "outputId": "c42f84eb-86f2-4af0-ccb1-0b5c1260b9e0"
      },
      "source": [
        "from threading import Lock\r\n",
        "\r\n",
        "lock = Lock()\r\n",
        "stop_th = False\r\n",
        "\r\n",
        "def infinit():\r\n",
        "    print(\"Start infinit()\")\r\n",
        "    while True:\r\n",
        "        print(f\"--thread work--\")\r\n",
        "        \r\n",
        "        lock.acquire()\r\n",
        "\r\n",
        "        if stop_th is True:\r\n",
        "           break\r\n",
        "        lock.release()\r\n",
        "        sleep(0.1)\r\n",
        "\r\n",
        "    print(\"Stop infinit()\")\r\n",
        "\r\n",
        "# Create and start thread\r\n",
        "th = Thread(target=infinit)\r\n",
        "th.start()\r\n",
        "\r\n",
        "sleep(1)\r\n",
        "\r\n",
        "# Stop thread\r\n",
        "lock.acquire()\r\n",
        "stop_th = True\r\n",
        "lock.release()"
      ],
      "execution_count": null,
      "outputs": [
        {
          "output_type": "stream",
          "text": [
            "Start infinit()\n",
            "--thread work--\n",
            "--thread work--\n",
            "--thread work--\n",
            "--thread work--\n",
            "--thread work--\n",
            "--thread work--\n",
            "--thread work--\n",
            "--thread work--\n",
            "--thread work--\n",
            "--thread work--\n",
            "--thread work--\n",
            "Stop infinit()\n"
          ],
          "name": "stdout"
        }
      ]
    }
  ]
}