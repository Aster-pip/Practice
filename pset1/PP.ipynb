{
  "nbformat": 4,
  "nbformat_minor": 0,
  "metadata": {
    "colab": {
      "name": "Untitled1.ipynb",
      "provenance": []
    },
    "kernelspec": {
      "name": "python3",
      "display_name": "Python 3"
    }
  },
  "cells": [
    {
      "cell_type": "code",
      "metadata": {
        "colab": {
          "base_uri": "https://localhost:8080/"
        },
        "id": "h2e7sxVGQlkJ",
        "outputId": "d8f364e1-17a7-457f-8efa-527403fa1c2d"
      },
      "source": [
        "! pip install pandarallel"
      ],
      "execution_count": null,
      "outputs": [
        {
          "output_type": "stream",
          "text": [
            "Collecting pandarallel\n",
            "  Downloading https://files.pythonhosted.org/packages/f9/c9/2350222cec65593ab5f2f00f2e57dfd1fa4e697dbe92fcaff641485354e6/pandarallel-1.5.2.tar.gz\n",
            "Requirement already satisfied: dill in /usr/local/lib/python3.7/dist-packages (from pandarallel) (0.3.3)\n",
            "Building wheels for collected packages: pandarallel\n",
            "  Building wheel for pandarallel (setup.py) ... \u001b[?25l\u001b[?25hdone\n",
            "  Created wheel for pandarallel: filename=pandarallel-1.5.2-cp37-none-any.whl size=18386 sha256=1987a92843e040f2f8a1574a3a0e2abd555e4841b929d3dc4fc16a7e7c98c7ff\n",
            "  Stored in directory: /root/.cache/pip/wheels/40/80/6d/d50fb72a8ce6a923fb10390fec9eaaa40b02d07a7ec05c9c05\n",
            "Successfully built pandarallel\n",
            "Installing collected packages: pandarallel\n",
            "Successfully installed pandarallel-1.5.2\n"
          ],
          "name": "stdout"
        }
      ]
    },
    {
      "cell_type": "code",
      "metadata": {
        "colab": {
          "base_uri": "https://localhost:8080/"
        },
        "id": "eG96TvgkQr5z",
        "outputId": "bfd2e72f-5ec5-4561-b2e9-7c3017d6703e"
      },
      "source": [
        "#Mykola Muliar, ІПЗс-2018\r\n",
        "import pandas as pd\r\n",
        "import requests\r\n",
        "\r\n",
        "from tqdm import tqdm\r\n",
        "tqdm.pandas()\r\n",
        "\r\n",
        "from pandarallel import pandarallel\r\n",
        "pandarallel.initialize(progress_bar=True)"
      ],
      "execution_count": null,
      "outputs": [
        {
          "output_type": "stream",
          "text": [
            "INFO: Pandarallel will run on 2 workers.\n",
            "INFO: Pandarallel will use Memory file system to transfer data between the main process and workers.\n"
          ],
          "name": "stdout"
        },
        {
          "output_type": "stream",
          "text": [
            "/usr/local/lib/python3.7/dist-packages/tqdm/std.py:658: FutureWarning: The Panel class is removed from pandas. Accessing it from the top-level namespace will also be removed in the next version\n",
            "  from pandas import Panel\n"
          ],
          "name": "stderr"
        }
      ]
    },
    {
      "cell_type": "code",
      "metadata": {
        "colab": {
          "base_uri": "https://localhost:8080/"
        },
        "id": "rU6IAXZiQ4Cs",
        "outputId": "1055de46-54fc-4799-9edf-b3e195794a9a"
      },
      "source": [
        "df = pd.DataFrame(\r\n",
        "    [i for i in range(100)],\r\n",
        "    columns=[\"sample_column\"]\r\n",
        ")\r\n",
        "def function_to_apply(i):\r\n",
        "    r = requests.get(f'https://random-word-api.herokuapp.com/word').json()\r\n",
        "\r\n",
        "    return r[0]\r\n",
        "df[\"sample-word\"] = df.sample_column.progress_apply(function_to_apply)"
      ],
      "execution_count": null,
      "outputs": [
        {
          "output_type": "stream",
          "text": [
            "100%|██████████| 100/100 [01:06<00:00,  1.51it/s]\n"
          ],
          "name": "stderr"
        }
      ]
    },
    {
      "cell_type": "code",
      "metadata": {
        "colab": {
          "base_uri": "https://localhost:8080/"
        },
        "id": "SqMWSCdNQ8Cx",
        "outputId": "7237a708-8f38-4f1c-b8d6-6fdd54b27a44"
      },
      "source": [
        "df[\"sample-word\"] = df.sample_column.parallel_apply(function_to_apply)"
      ],
      "execution_count": null,
      "outputs": [
        {
          "output_type": "stream",
          "text": [
            "   0.00%                                          |        0 /       50 |      \n",
            "   0.00%                                          |        0 /       50 |      \b\b\b\b\b\b\b\b\b\b\b\b\b\b\b\b\b\b\b\b\b\b\b\b\b\b\b\b\b\b\b\b\b\b\b\b\b\b\b\b\b\b\b\b\b\b\b\b\b\b\b\b\b\b\b\b\b\b\b\b\b\b\b\b\b\b\b\b\b\b\b\b\b\b\b\b\b\b\b\u001bM   0.00%                                          |        0 /       50 |      \n",
            "   2.00%                                          |        1 /       50 |      \b\b\b\b\b\b\b\b\b\b\b\b\b\b\b\b\b\b\b\b\b\b\b\b\b\b\b\b\b\b\b\b\b\b\b\b\b\b\b\b\b\b\b\b\b\b\b\b\b\b\b\b\b\b\b\b\b\b\b\b\b\b\b\b\b\b\b\b\b\b\b\b\b\b\b\b\b\b\b\u001bM   4.00% :                                        |        2 /       50 |      \n",
            "   2.00%                                          |        1 /       50 |      \b\b\b\b\b\b\b\b\b\b\b\b\b\b\b\b\b\b\b\b\b\b\b\b\b\b\b\b\b\b\b\b\b\b\b\b\b\b\b\b\b\b\b\b\b\b\b\b\b\b\b\b\b\b\b\b\b\b\b\b\b\b\b\b\b\b\b\b\b\b\b\b\b\b\b\b\b\b\b\u001bM   6.00% ::                                       |        3 /       50 |      \n",
            "   4.00% :                                        |        2 /       50 |      \b\b\b\b\b\b\b\b\b\b\b\b\b\b\b\b\b\b\b\b\b\b\b\b\b\b\b\b\b\b\b\b\b\b\b\b\b\b\b\b\b\b\b\b\b\b\b\b\b\b\b\b\b\b\b\b\b\b\b\b\b\b\b\b\b\b\b\b\b\b\b\b\b\b\b\b\b\b\b\u001bM   8.00% :::                                      |        4 /       50 |      \n",
            "   6.00% ::                                       |        3 /       50 |      \b\b\b\b\b\b\b\b\b\b\b\b\b\b\b\b\b\b\b\b\b\b\b\b\b\b\b\b\b\b\b\b\b\b\b\b\b\b\b\b\b\b\b\b\b\b\b\b\b\b\b\b\b\b\b\b\b\b\b\b\b\b\b\b\b\b\b\b\b\b\b\b\b\b\b\b\b\b\b\u001bM  10.00% ::::                                     |        5 /       50 |      \n",
            "   8.00% :::                                      |        4 /       50 |      \b\b\b\b\b\b\b\b\b\b\b\b\b\b\b\b\b\b\b\b\b\b\b\b\b\b\b\b\b\b\b\b\b\b\b\b\b\b\b\b\b\b\b\b\b\b\b\b\b\b\b\b\b\b\b\b\b\b\b\b\b\b\b\b\b\b\b\b\b\b\b\b\b\b\b\b\b\b\b\u001bM  12.00% ::::                                     |        6 /       50 |      \n",
            "  10.00% ::::                                     |        5 /       50 |      \b\b\b\b\b\b\b\b\b\b\b\b\b\b\b\b\b\b\b\b\b\b\b\b\b\b\b\b\b\b\b\b\b\b\b\b\b\b\b\b\b\b\b\b\b\b\b\b\b\b\b\b\b\b\b\b\b\b\b\b\b\b\b\b\b\b\b\b\b\b\b\b\b\b\b\b\b\b\b\u001bM  14.00% :::::                                    |        7 /       50 |      \n",
            "  12.00% ::::                                     |        6 /       50 |      \b\b\b\b\b\b\b\b\b\b\b\b\b\b\b\b\b\b\b\b\b\b\b\b\b\b\b\b\b\b\b\b\b\b\b\b\b\b\b\b\b\b\b\b\b\b\b\b\b\b\b\b\b\b\b\b\b\b\b\b\b\b\b\b\b\b\b\b\b\b\b\b\b\b\b\b\b\b\b\u001bM  16.00% ::::::                                   |        8 /       50 |      \n",
            "  14.00% :::::                                    |        7 /       50 |      \b\b\b\b\b\b\b\b\b\b\b\b\b\b\b\b\b\b\b\b\b\b\b\b\b\b\b\b\b\b\b\b\b\b\b\b\b\b\b\b\b\b\b\b\b\b\b\b\b\b\b\b\b\b\b\b\b\b\b\b\b\b\b\b\b\b\b\b\b\b\b\b\b\b\b\b\b\b\b\u001bM  18.00% :::::::                                  |        9 /       50 |      \n",
            "  16.00% ::::::                                   |        8 /       50 |      \b\b\b\b\b\b\b\b\b\b\b\b\b\b\b\b\b\b\b\b\b\b\b\b\b\b\b\b\b\b\b\b\b\b\b\b\b\b\b\b\b\b\b\b\b\b\b\b\b\b\b\b\b\b\b\b\b\b\b\b\b\b\b\b\b\b\b\b\b\b\b\b\b\b\b\b\b\b\b\u001bM  18.00% :::::::                                  |        9 /       50 |      \n",
            "  20.00% ::::::::                                 |       10 /       50 |      \b\b\b\b\b\b\b\b\b\b\b\b\b\b\b\b\b\b\b\b\b\b\b\b\b\b\b\b\b\b\b\b\b\b\b\b\b\b\b\b\b\b\b\b\b\b\b\b\b\b\b\b\b\b\b\b\b\b\b\b\b\b\b\b\b\b\b\b\b\b\b\b\b\b\b\b\b\b\b\u001bM  22.00% ::::::::                                 |       11 /       50 |      \n",
            "  20.00% ::::::::                                 |       10 /       50 |      \b\b\b\b\b\b\b\b\b\b\b\b\b\b\b\b\b\b\b\b\b\b\b\b\b\b\b\b\b\b\b\b\b\b\b\b\b\b\b\b\b\b\b\b\b\b\b\b\b\b\b\b\b\b\b\b\b\b\b\b\b\b\b\b\b\b\b\b\b\b\b\b\b\b\b\b\b\b\b\u001bM  22.00% ::::::::                                 |       11 /       50 |      \n",
            "  24.00% :::::::::                                |       12 /       50 |      \b\b\b\b\b\b\b\b\b\b\b\b\b\b\b\b\b\b\b\b\b\b\b\b\b\b\b\b\b\b\b\b\b\b\b\b\b\b\b\b\b\b\b\b\b\b\b\b\b\b\b\b\b\b\b\b\b\b\b\b\b\b\b\b\b\b\b\b\b\b\b\b\b\b\b\b\b\b\b\u001bM  26.00% ::::::::::                               |       13 /       50 |      \n",
            "  24.00% :::::::::                                |       12 /       50 |      \b\b\b\b\b\b\b\b\b\b\b\b\b\b\b\b\b\b\b\b\b\b\b\b\b\b\b\b\b\b\b\b\b\b\b\b\b\b\b\b\b\b\b\b\b\b\b\b\b\b\b\b\b\b\b\b\b\b\b\b\b\b\b\b\b\b\b\b\b\b\b\b\b\b\b\b\b\b\b\u001bM  28.00% :::::::::::                              |       14 /       50 |      \n",
            "  26.00% ::::::::::                               |       13 /       50 |      \b\b\b\b\b\b\b\b\b\b\b\b\b\b\b\b\b\b\b\b\b\b\b\b\b\b\b\b\b\b\b\b\b\b\b\b\b\b\b\b\b\b\b\b\b\b\b\b\b\b\b\b\b\b\b\b\b\b\b\b\b\b\b\b\b\b\b\b\b\b\b\b\b\b\b\b\b\b\b\u001bM  30.00% ::::::::::::                             |       15 /       50 |      \n",
            "  28.00% :::::::::::                              |       14 /       50 |      \b\b\b\b\b\b\b\b\b\b\b\b\b\b\b\b\b\b\b\b\b\b\b\b\b\b\b\b\b\b\b\b\b\b\b\b\b\b\b\b\b\b\b\b\b\b\b\b\b\b\b\b\b\b\b\b\b\b\b\b\b\b\b\b\b\b\b\b\b\b\b\b\b\b\b\b\b\b\b\u001bM  30.00% ::::::::::::                             |       15 /       50 |      \n",
            "  32.00% ::::::::::::                             |       16 /       50 |      \b\b\b\b\b\b\b\b\b\b\b\b\b\b\b\b\b\b\b\b\b\b\b\b\b\b\b\b\b\b\b\b\b\b\b\b\b\b\b\b\b\b\b\b\b\b\b\b\b\b\b\b\b\b\b\b\b\b\b\b\b\b\b\b\b\b\b\b\b\b\b\b\b\b\b\b\b\b\b\u001bM  32.00% ::::::::::::                             |       16 /       50 |      \n",
            "  34.00% :::::::::::::                            |       17 /       50 |      \b\b\b\b\b\b\b\b\b\b\b\b\b\b\b\b\b\b\b\b\b\b\b\b\b\b\b\b\b\b\b\b\b\b\b\b\b\b\b\b\b\b\b\b\b\b\b\b\b\b\b\b\b\b\b\b\b\b\b\b\b\b\b\b\b\b\b\b\b\b\b\b\b\b\b\b\b\b\b\u001bM  34.00% :::::::::::::                            |       17 /       50 |      \n",
            "  36.00% ::::::::::::::                           |       18 /       50 |      \b\b\b\b\b\b\b\b\b\b\b\b\b\b\b\b\b\b\b\b\b\b\b\b\b\b\b\b\b\b\b\b\b\b\b\b\b\b\b\b\b\b\b\b\b\b\b\b\b\b\b\b\b\b\b\b\b\b\b\b\b\b\b\b\b\b\b\b\b\b\b\b\b\b\b\b\b\b\b\u001bM  36.00% ::::::::::::::                           |       18 /       50 |      \n",
            "  38.00% :::::::::::::::                          |       19 /       50 |      \b\b\b\b\b\b\b\b\b\b\b\b\b\b\b\b\b\b\b\b\b\b\b\b\b\b\b\b\b\b\b\b\b\b\b\b\b\b\b\b\b\b\b\b\b\b\b\b\b\b\b\b\b\b\b\b\b\b\b\b\b\b\b\b\b\b\b\b\b\b\b\b\b\b\b\b\b\b\b\u001bM  38.00% :::::::::::::::                          |       19 /       50 |      \n",
            "  40.00% ::::::::::::::::                         |       20 /       50 |      \b\b\b\b\b\b\b\b\b\b\b\b\b\b\b\b\b\b\b\b\b\b\b\b\b\b\b\b\b\b\b\b\b\b\b\b\b\b\b\b\b\b\b\b\b\b\b\b\b\b\b\b\b\b\b\b\b\b\b\b\b\b\b\b\b\b\b\b\b\b\b\b\b\b\b\b\b\b\b\u001bM  40.00% ::::::::::::::::                         |       20 /       50 |      \n",
            "  42.00% ::::::::::::::::                         |       21 /       50 |      \b\b\b\b\b\b\b\b\b\b\b\b\b\b\b\b\b\b\b\b\b\b\b\b\b\b\b\b\b\b\b\b\b\b\b\b\b\b\b\b\b\b\b\b\b\b\b\b\b\b\b\b\b\b\b\b\b\b\b\b\b\b\b\b\b\b\b\b\b\b\b\b\b\b\b\b\b\b\b\u001bM  42.00% ::::::::::::::::                         |       21 /       50 |      \n",
            "  44.00% :::::::::::::::::                        |       22 /       50 |      \b\b\b\b\b\b\b\b\b\b\b\b\b\b\b\b\b\b\b\b\b\b\b\b\b\b\b\b\b\b\b\b\b\b\b\b\b\b\b\b\b\b\b\b\b\b\b\b\b\b\b\b\b\b\b\b\b\b\b\b\b\b\b\b\b\b\b\b\b\b\b\b\b\b\b\b\b\b\b\u001bM  44.00% :::::::::::::::::                        |       22 /       50 |      \n",
            "  46.00% ::::::::::::::::::                       |       23 /       50 |      \b\b\b\b\b\b\b\b\b\b\b\b\b\b\b\b\b\b\b\b\b\b\b\b\b\b\b\b\b\b\b\b\b\b\b\b\b\b\b\b\b\b\b\b\b\b\b\b\b\b\b\b\b\b\b\b\b\b\b\b\b\b\b\b\b\b\b\b\b\b\b\b\b\b\b\b\b\b\b\u001bM  46.00% ::::::::::::::::::                       |       23 /       50 |      \n",
            "  48.00% :::::::::::::::::::                      |       24 /       50 |      \b\b\b\b\b\b\b\b\b\b\b\b\b\b\b\b\b\b\b\b\b\b\b\b\b\b\b\b\b\b\b\b\b\b\b\b\b\b\b\b\b\b\b\b\b\b\b\b\b\b\b\b\b\b\b\b\b\b\b\b\b\b\b\b\b\b\b\b\b\b\b\b\b\b\b\b\b\b\b\u001bM  48.00% :::::::::::::::::::                      |       24 /       50 |      \n",
            "  50.00% ::::::::::::::::::::                     |       25 /       50 |      \b\b\b\b\b\b\b\b\b\b\b\b\b\b\b\b\b\b\b\b\b\b\b\b\b\b\b\b\b\b\b\b\b\b\b\b\b\b\b\b\b\b\b\b\b\b\b\b\b\b\b\b\b\b\b\b\b\b\b\b\b\b\b\b\b\b\b\b\b\b\b\b\b\b\b\b\b\b\b\u001bM  50.00% ::::::::::::::::::::                     |       25 /       50 |      \n",
            "  52.00% ::::::::::::::::::::                     |       26 /       50 |      \b\b\b\b\b\b\b\b\b\b\b\b\b\b\b\b\b\b\b\b\b\b\b\b\b\b\b\b\b\b\b\b\b\b\b\b\b\b\b\b\b\b\b\b\b\b\b\b\b\b\b\b\b\b\b\b\b\b\b\b\b\b\b\b\b\b\b\b\b\b\b\b\b\b\b\b\b\b\b\u001bM  52.00% ::::::::::::::::::::                     |       26 /       50 |      \n",
            "  54.00% :::::::::::::::::::::                    |       27 /       50 |      \b\b\b\b\b\b\b\b\b\b\b\b\b\b\b\b\b\b\b\b\b\b\b\b\b\b\b\b\b\b\b\b\b\b\b\b\b\b\b\b\b\b\b\b\b\b\b\b\b\b\b\b\b\b\b\b\b\b\b\b\b\b\b\b\b\b\b\b\b\b\b\b\b\b\b\b\b\b\b\u001bM  54.00% :::::::::::::::::::::                    |       27 /       50 |      \n",
            "  56.00% ::::::::::::::::::::::                   |       28 /       50 |      \b\b\b\b\b\b\b\b\b\b\b\b\b\b\b\b\b\b\b\b\b\b\b\b\b\b\b\b\b\b\b\b\b\b\b\b\b\b\b\b\b\b\b\b\b\b\b\b\b\b\b\b\b\b\b\b\b\b\b\b\b\b\b\b\b\b\b\b\b\b\b\b\b\b\b\b\b\b\b\u001bM  56.00% ::::::::::::::::::::::                   |       28 /       50 |      \n",
            "  58.00% :::::::::::::::::::::::                  |       29 /       50 |      \b\b\b\b\b\b\b\b\b\b\b\b\b\b\b\b\b\b\b\b\b\b\b\b\b\b\b\b\b\b\b\b\b\b\b\b\b\b\b\b\b\b\b\b\b\b\b\b\b\b\b\b\b\b\b\b\b\b\b\b\b\b\b\b\b\b\b\b\b\b\b\b\b\b\b\b\b\b\b\u001bM  58.00% :::::::::::::::::::::::                  |       29 /       50 |      \n",
            "  60.00% ::::::::::::::::::::::::                 |       30 /       50 |      \b\b\b\b\b\b\b\b\b\b\b\b\b\b\b\b\b\b\b\b\b\b\b\b\b\b\b\b\b\b\b\b\b\b\b\b\b\b\b\b\b\b\b\b\b\b\b\b\b\b\b\b\b\b\b\b\b\b\b\b\b\b\b\b\b\b\b\b\b\b\b\b\b\b\b\b\b\b\b\u001bM  60.00% ::::::::::::::::::::::::                 |       30 /       50 |      \n",
            "  62.00% ::::::::::::::::::::::::                 |       31 /       50 |      \b\b\b\b\b\b\b\b\b\b\b\b\b\b\b\b\b\b\b\b\b\b\b\b\b\b\b\b\b\b\b\b\b\b\b\b\b\b\b\b\b\b\b\b\b\b\b\b\b\b\b\b\b\b\b\b\b\b\b\b\b\b\b\b\b\b\b\b\b\b\b\b\b\b\b\b\b\b\b\u001bM  62.00% ::::::::::::::::::::::::                 |       31 /       50 |      \n",
            "  64.00% :::::::::::::::::::::::::                |       32 /       50 |      \b\b\b\b\b\b\b\b\b\b\b\b\b\b\b\b\b\b\b\b\b\b\b\b\b\b\b\b\b\b\b\b\b\b\b\b\b\b\b\b\b\b\b\b\b\b\b\b\b\b\b\b\b\b\b\b\b\b\b\b\b\b\b\b\b\b\b\b\b\b\b\b\b\b\b\b\b\b\b\u001bM  64.00% :::::::::::::::::::::::::                |       32 /       50 |      \n",
            "  66.00% ::::::::::::::::::::::::::               |       33 /       50 |      \b\b\b\b\b\b\b\b\b\b\b\b\b\b\b\b\b\b\b\b\b\b\b\b\b\b\b\b\b\b\b\b\b\b\b\b\b\b\b\b\b\b\b\b\b\b\b\b\b\b\b\b\b\b\b\b\b\b\b\b\b\b\b\b\b\b\b\b\b\b\b\b\b\b\b\b\b\b\b\u001bM  66.00% ::::::::::::::::::::::::::               |       33 /       50 |      \n",
            "  68.00% :::::::::::::::::::::::::::              |       34 /       50 |      \b\b\b\b\b\b\b\b\b\b\b\b\b\b\b\b\b\b\b\b\b\b\b\b\b\b\b\b\b\b\b\b\b\b\b\b\b\b\b\b\b\b\b\b\b\b\b\b\b\b\b\b\b\b\b\b\b\b\b\b\b\b\b\b\b\b\b\b\b\b\b\b\b\b\b\b\b\b\b\u001bM  68.00% :::::::::::::::::::::::::::              |       34 /       50 |      \n",
            "  70.00% ::::::::::::::::::::::::::::             |       35 /       50 |      \b\b\b\b\b\b\b\b\b\b\b\b\b\b\b\b\b\b\b\b\b\b\b\b\b\b\b\b\b\b\b\b\b\b\b\b\b\b\b\b\b\b\b\b\b\b\b\b\b\b\b\b\b\b\b\b\b\b\b\b\b\b\b\b\b\b\b\b\b\b\b\b\b\b\b\b\b\b\b\u001bM  70.00% ::::::::::::::::::::::::::::             |       35 /       50 |      \n",
            "  72.00% ::::::::::::::::::::::::::::             |       36 /       50 |      \b\b\b\b\b\b\b\b\b\b\b\b\b\b\b\b\b\b\b\b\b\b\b\b\b\b\b\b\b\b\b\b\b\b\b\b\b\b\b\b\b\b\b\b\b\b\b\b\b\b\b\b\b\b\b\b\b\b\b\b\b\b\b\b\b\b\b\b\b\b\b\b\b\b\b\b\b\b\b\u001bM  72.00% ::::::::::::::::::::::::::::             |       36 /       50 |      \n",
            "  74.00% :::::::::::::::::::::::::::::            |       37 /       50 |      \b\b\b\b\b\b\b\b\b\b\b\b\b\b\b\b\b\b\b\b\b\b\b\b\b\b\b\b\b\b\b\b\b\b\b\b\b\b\b\b\b\b\b\b\b\b\b\b\b\b\b\b\b\b\b\b\b\b\b\b\b\b\b\b\b\b\b\b\b\b\b\b\b\b\b\b\b\b\b\u001bM  74.00% :::::::::::::::::::::::::::::            |       37 /       50 |      \n",
            "  76.00% ::::::::::::::::::::::::::::::           |       38 /       50 |      \b\b\b\b\b\b\b\b\b\b\b\b\b\b\b\b\b\b\b\b\b\b\b\b\b\b\b\b\b\b\b\b\b\b\b\b\b\b\b\b\b\b\b\b\b\b\b\b\b\b\b\b\b\b\b\b\b\b\b\b\b\b\b\b\b\b\b\b\b\b\b\b\b\b\b\b\b\b\b\u001bM  76.00% ::::::::::::::::::::::::::::::           |       38 /       50 |      \n",
            "  78.00% :::::::::::::::::::::::::::::::          |       39 /       50 |      \b\b\b\b\b\b\b\b\b\b\b\b\b\b\b\b\b\b\b\b\b\b\b\b\b\b\b\b\b\b\b\b\b\b\b\b\b\b\b\b\b\b\b\b\b\b\b\b\b\b\b\b\b\b\b\b\b\b\b\b\b\b\b\b\b\b\b\b\b\b\b\b\b\b\b\b\b\b\b\u001bM  78.00% :::::::::::::::::::::::::::::::          |       39 /       50 |      \n",
            "  80.00% ::::::::::::::::::::::::::::::::         |       40 /       50 |      \b\b\b\b\b\b\b\b\b\b\b\b\b\b\b\b\b\b\b\b\b\b\b\b\b\b\b\b\b\b\b\b\b\b\b\b\b\b\b\b\b\b\b\b\b\b\b\b\b\b\b\b\b\b\b\b\b\b\b\b\b\b\b\b\b\b\b\b\b\b\b\b\b\b\b\b\b\b\b\u001bM  80.00% ::::::::::::::::::::::::::::::::         |       40 /       50 |      \n",
            "  82.00% ::::::::::::::::::::::::::::::::         |       41 /       50 |      \b\b\b\b\b\b\b\b\b\b\b\b\b\b\b\b\b\b\b\b\b\b\b\b\b\b\b\b\b\b\b\b\b\b\b\b\b\b\b\b\b\b\b\b\b\b\b\b\b\b\b\b\b\b\b\b\b\b\b\b\b\b\b\b\b\b\b\b\b\b\b\b\b\b\b\b\b\b\b\u001bM  82.00% ::::::::::::::::::::::::::::::::         |       41 /       50 |      \n",
            "  84.00% :::::::::::::::::::::::::::::::::        |       42 /       50 |      \b\b\b\b\b\b\b\b\b\b\b\b\b\b\b\b\b\b\b\b\b\b\b\b\b\b\b\b\b\b\b\b\b\b\b\b\b\b\b\b\b\b\b\b\b\b\b\b\b\b\b\b\b\b\b\b\b\b\b\b\b\b\b\b\b\b\b\b\b\b\b\b\b\b\b\b\b\b\b\u001bM  84.00% :::::::::::::::::::::::::::::::::        |       42 /       50 |      \n",
            "  86.00% ::::::::::::::::::::::::::::::::::       |       43 /       50 |      \b\b\b\b\b\b\b\b\b\b\b\b\b\b\b\b\b\b\b\b\b\b\b\b\b\b\b\b\b\b\b\b\b\b\b\b\b\b\b\b\b\b\b\b\b\b\b\b\b\b\b\b\b\b\b\b\b\b\b\b\b\b\b\b\b\b\b\b\b\b\b\b\b\b\b\b\b\b\b\u001bM  86.00% ::::::::::::::::::::::::::::::::::       |       43 /       50 |      \n",
            "  88.00% :::::::::::::::::::::::::::::::::::      |       44 /       50 |      \b\b\b\b\b\b\b\b\b\b\b\b\b\b\b\b\b\b\b\b\b\b\b\b\b\b\b\b\b\b\b\b\b\b\b\b\b\b\b\b\b\b\b\b\b\b\b\b\b\b\b\b\b\b\b\b\b\b\b\b\b\b\b\b\b\b\b\b\b\b\b\b\b\b\b\b\b\b\b\u001bM  88.00% :::::::::::::::::::::::::::::::::::      |       44 /       50 |      \n",
            "  90.00% ::::::::::::::::::::::::::::::::::::     |       45 /       50 |      \b\b\b\b\b\b\b\b\b\b\b\b\b\b\b\b\b\b\b\b\b\b\b\b\b\b\b\b\b\b\b\b\b\b\b\b\b\b\b\b\b\b\b\b\b\b\b\b\b\b\b\b\b\b\b\b\b\b\b\b\b\b\b\b\b\b\b\b\b\b\b\b\b\b\b\b\b\b\b\u001bM  92.00% ::::::::::::::::::::::::::::::::::::     |       46 /       50 |      \n",
            "  90.00% ::::::::::::::::::::::::::::::::::::     |       45 /       50 |      \b\b\b\b\b\b\b\b\b\b\b\b\b\b\b\b\b\b\b\b\b\b\b\b\b\b\b\b\b\b\b\b\b\b\b\b\b\b\b\b\b\b\b\b\b\b\b\b\b\b\b\b\b\b\b\b\b\b\b\b\b\b\b\b\b\b\b\b\b\b\b\b\b\b\b\b\b\b\b\u001bM  94.00% :::::::::::::::::::::::::::::::::::::    |       47 /       50 |      \n",
            "  92.00% ::::::::::::::::::::::::::::::::::::     |       46 /       50 |      \b\b\b\b\b\b\b\b\b\b\b\b\b\b\b\b\b\b\b\b\b\b\b\b\b\b\b\b\b\b\b\b\b\b\b\b\b\b\b\b\b\b\b\b\b\b\b\b\b\b\b\b\b\b\b\b\b\b\b\b\b\b\b\b\b\b\b\b\b\b\b\b\b\b\b\b\b\b\b\u001bM  96.00% ::::::::::::::::::::::::::::::::::::::   |       48 /       50 |      \n",
            "  94.00% :::::::::::::::::::::::::::::::::::::    |       47 /       50 |      \b\b\b\b\b\b\b\b\b\b\b\b\b\b\b\b\b\b\b\b\b\b\b\b\b\b\b\b\b\b\b\b\b\b\b\b\b\b\b\b\b\b\b\b\b\b\b\b\b\b\b\b\b\b\b\b\b\b\b\b\b\b\b\b\b\b\b\b\b\b\b\b\b\b\b\b\b\b\b\u001bM  98.00% :::::::::::::::::::::::::::::::::::::::  |       49 /       50 |      \n",
            "  96.00% ::::::::::::::::::::::::::::::::::::::   |       48 /       50 |      \b\b\b\b\b\b\b\b\b\b\b\b\b\b\b\b\b\b\b\b\b\b\b\b\b\b\b\b\b\b\b\b\b\b\b\b\b\b\b\b\b\b\b\b\b\b\b\b\b\b\b\b\b\b\b\b\b\b\b\b\b\b\b\b\b\b\b\b\b\b\b\b\b\b\b\b\b\b\b\u001bM 100.00% :::::::::::::::::::::::::::::::::::::::: |       50 /       50 |      \n",
            "  98.00% :::::::::::::::::::::::::::::::::::::::  |       49 /       50 |      \b\b\b\b\b\b\b\b\b\b\b\b\b\b\b\b\b\b\b\b\b\b\b\b\b\b\b\b\b\b\b\b\b\b\b\b\b\b\b\b\b\b\b\b\b\b\b\b\b\b\b\b\b\b\b\b\b\b\b\b\b\b\b\b\b\b\b\b\b\b\b\b\b\b\b\b\b\b\b\u001bM 100.00% :::::::::::::::::::::::::::::::::::::::: |       50 /       50 |      \n",
            " 100.00% :::::::::::::::::::::::::::::::::::::::: |       50 /       50 |      "
          ],
          "name": "stdout"
        }
      ]
    },
    {
      "cell_type": "code",
      "metadata": {
        "id": "PWJN0MFDRC8e"
      },
      "source": [
        "import collections \r\n",
        "import multiprocessing"
      ],
      "execution_count": null,
      "outputs": []
    },
    {
      "cell_type": "code",
      "metadata": {
        "id": "f7K21hvHRD7Q"
      },
      "source": [
        "Scientist = collections.namedtuple('Scientist', [   'name',   'born',])\r\n",
        "\r\n",
        "scientists = (Scientist(name='Ada Lovelace', born=1815),\r\n",
        "                    Scientist(name='Vasia Pepkin', born=1882),\r\n",
        "                    Scientist(name='Maria Curie', born=1867),\r\n",
        "                    Scientist(name='Tu Youyou', born=1932),\r\n",
        "                    Scientist(name='Taras Shevchenko', born=1814),\r\n",
        "                    Scientist(name='Vera Rubin', born=1522),\r\n",
        "                    Scientist(name='Nastya Ride', born=1941),)\r\n",
        "def process_item(item):\r\n",
        "     return {'name': item.name, 'age': 2021 - item.born   }"
      ],
      "execution_count": null,
      "outputs": []
    },
    {
      "cell_type": "code",
      "metadata": {
        "colab": {
          "base_uri": "https://localhost:8080/"
        },
        "id": "Jrqre6erRHlp",
        "outputId": "ad063071-b95e-4f9f-a6da-9e22268e6256"
      },
      "source": [
        "pool = multiprocessing.Pool()\r\n",
        "result = pool.map(process_item, scientists)\r\n",
        "print(tuple(result))"
      ],
      "execution_count": null,
      "outputs": [
        {
          "output_type": "stream",
          "text": [
            "({'name': 'Ada Lovelace', 'age': 206}, {'name': 'Vasia Pepkin', 'age': 139}, {'name': 'Maria Curie', 'age': 154}, {'name': 'Tu Youyou', 'age': 89}, {'name': 'Taras Shevchenko', 'age': 207}, {'name': 'Vera Rubin', 'age': 499}, {'name': 'Nastya Ride', 'age': 80})\n"
          ],
          "name": "stdout"
        }
      ]
    }
  ]
}