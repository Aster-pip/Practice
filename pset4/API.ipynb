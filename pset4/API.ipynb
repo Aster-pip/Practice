{
  "nbformat": 4,
  "nbformat_minor": 0,
  "metadata": {
    "colab": {
      "name": "Untitled7.ipynb",
      "provenance": [],
      "collapsed_sections": []
    },
    "kernelspec": {
      "name": "python3",
      "display_name": "Python 3"
    },
    "language_info": {
      "name": "python"
    }
  },
  "cells": [
    {
      "cell_type": "code",
      "metadata": {
        "colab": {
          "base_uri": "https://localhost:8080/"
        },
        "id": "XNx6HokTtQ7Q",
        "outputId": "81fbe170-5564-49f5-d132-139359682693"
      },
      "source": [
        "import requests \n",
        "\n",
        "def weather():\n",
        "    url = 'http://api.worldweatheronline.com/premium/v1/weather.ashx' \n",
        "    city = input('Сity -> ')\n",
        "    params = { 'key': 'b9c3092545b74c2793f194708213103',\n",
        "               'q': city, #city\n",
        "               'format': 'json', \n",
        "               'numdays': 1,\n",
        "               'lang': 'ukr'}\n",
        "    req = requests.get(url, params=params) \n",
        "    weather = req.json()\n",
        "\n",
        "    if 'data' in weather:\n",
        "        if 'current_condition' in weather['data']:\n",
        "            try:\n",
        "                return weather['data']['current_condition'][0]\n",
        "            except(IndexError, TypeError):\n",
        "                return 'Server Error'\n",
        "    return 'Server Error'\n",
        "\n",
        "if __name__ == '__main__':\n",
        "    weather = weather() \n",
        "    print(f'Temperature:{weather[\"temp_C\"]}, feels like: {weather[\"FeelsLikeC\"]}.')"
      ],
      "execution_count": null,
      "outputs": [
        {
          "output_type": "stream",
          "text": [
            "Сity -> Vinnitsa\n",
            "Temperature:7, feels like: 5.\n"
          ],
          "name": "stdout"
        }
      ]
    },
    {
      "cell_type": "code",
      "metadata": {
        "colab": {
          "base_uri": "https://localhost:8080/"
        },
        "id": "otlL8MWy4AA0",
        "outputId": "2b144e2a-f437-4153-c98c-40e365ae5e08"
      },
      "source": [
        "pip install requests"
      ],
      "execution_count": null,
      "outputs": [
        {
          "output_type": "stream",
          "text": [
            "Requirement already satisfied: requests in /usr/local/lib/python3.7/dist-packages (2.23.0)\n",
            "Requirement already satisfied: idna<3,>=2.5 in /usr/local/lib/python3.7/dist-packages (from requests) (2.10)\n",
            "Requirement already satisfied: chardet<4,>=3.0.2 in /usr/local/lib/python3.7/dist-packages (from requests) (3.0.4)\n",
            "Requirement already satisfied: urllib3!=1.25.0,!=1.25.1,<1.26,>=1.21.1 in /usr/local/lib/python3.7/dist-packages (from requests) (1.24.3)\n",
            "Requirement already satisfied: certifi>=2017.4.17 in /usr/local/lib/python3.7/dist-packages (from requests) (2020.12.5)\n"
          ],
          "name": "stdout"
        }
      ]
    }
  ]
}