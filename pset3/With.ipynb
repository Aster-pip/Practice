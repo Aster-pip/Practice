{
  "nbformat": 4,
  "nbformat_minor": 0,
  "metadata": {
    "colab": {
      "name": "Untitled4.ipynb",
      "provenance": [],
      "collapsed_sections": []
    },
    "kernelspec": {
      "name": "python3",
      "display_name": "Python 3"
    }
  },
  "cells": [
    {
      "cell_type": "code",
      "metadata": {
        "colab": {
          "base_uri": "https://localhost:8080/"
        },
        "id": "E_zRe2sMp8AU",
        "outputId": "4fe51527-52f8-4d4a-c2a0-5bad3dfa9198"
      },
      "source": [
        "with open('ExFile.txt', 'w') as file:\r\n",
        "  file.write(\"My Testament

When I am dead, bury me In my beloved Ukraine, My tomb upon a grave mound high Amid the spreading plain, So that the fields, the boundless steppes, The Dnieper’s plunging shore My eyes could see, my ears could hear The mighty river roar.

When from Ukraine the Dnieper bears Into the deep blue sea The blood of foes … then will I leave These hills and fertile fields — I’ll leave them all and fly away To the abode of God, And then I’ll pray …. But till that day I nothing know of God.

Oh bury me, then rise ye up And break your heavy chains And water with the tyrants’ blood The freedom you have gained. And in the great new family, The family of the free, With softly spoken, kindly word Remember also me.

Taras Shevchenko Pereyaslav, December 25, 1845 Translated by John Weir Toronto, 1961\")\r\n",
        "  \r\n",
        "\r\n",
        "with open('ExFile.txt', 'r') as file:\r\n",
        "  print( file.read() )"
      ],
      "execution_count": 7,
      "outputs": [
        {
          "output_type": "stream",
          "text": [
            "Some text\n"
          ],
          "name": "stdout"
        }
      ]
    }
  ]
}