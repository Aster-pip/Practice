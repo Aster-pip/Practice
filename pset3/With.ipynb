{
  "nbformat": 4,
  "nbformat_minor": 0,
  "metadata": {
    "colab": {
      "name": "Untitled4.ipynb",
      "provenance": [],
      "collapsed_sections": []
    },
    "kernelspec": {
      "name": "python3",
      "display_name": "Python 3"
    }
  },
  "cells": [
    {
      "cell_type": "code",
      "metadata": {
        "colab": {
          "base_uri": "https://localhost:8080/"
        },
        "id": "E_zRe2sMp8AU",
        "outputId": "4fe51527-52f8-4d4a-c2a0-5bad3dfa9198"
      },
      "source": [
        "with open('ExFile.txt', 'w') as file:\r\n",
        "  file.write(\"Hi!\")\r\n",
        "  \r\n",
        "\r\n",
        "with open('ExFile.txt', 'r') as file:\r\n",
        "  print( file.read() )"
      ],
      "execution_count": 7,
      "outputs": [
        {
          "output_type": "stream",
          "text": [
            "Some text\n"
          ],
          "name": "stdout"
        }
      ]
    }
  ]
}